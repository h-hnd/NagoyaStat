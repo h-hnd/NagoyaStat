{
 "cells": [
  {
   "cell_type": "markdown",
   "metadata": {
    "slideshow": {
     "slide_type": "slide"
    }
   },
   "source": [
    "# 第3章 一般化線型モデル(GLM) ～ポアソン回帰～\n",
    "\n",
    "**説明変数**を組み込んだ統計モデルについて説明\n",
    "\n",
    "**ポアソン回帰**(Poisson regression)$\\cdots$個体ごとに異なる説明変数(個体の属性)によって平均種子数が変化する.  \n",
    "$\\rightarrow$第2章ではどの個体の種子数$y_i$も平均$\\lambda$のポアソン分布にしたがうと仮定\n",
    "\n",
    "**一般化線形モデル**(Generalized Linear Model)$\\cdots$$\\uparrow$と似たような構造の統計モデルを総称してこう呼ぶ."
   ]
  },
  {
   "cell_type": "markdown",
   "metadata": {
    "slideshow": {
     "slide_type": "slide"
    }
   },
   "source": [
    "## 例題\n",
    "\n",
    "* 植物個体$\\cdots$$i$\n",
    "* 種子数$\\cdots$$y_i$\n",
    "* **体サイズ**(body size)$\\cdots$$x_i$　　\\# 植物の大きさの大小を表す正の実数\n",
    "\n",
    "* 処理$C$$\\cdots$全個体のうち50個体($i\\in\\{1, 2, \\cdots, 50\\}$)は処理しない\n",
    "* 処理$T$$\\cdots$残り50個体($i\\in\\{51, 52, \\cdots, 100\\}$)は施肥処理(肥料を加える)する\n"
   ]
  },
  {
   "cell_type": "markdown",
   "metadata": {
    "slideshow": {
     "slide_type": "slide"
    }
   },
   "source": [
    "### 観測されたデータの概要を調べる"
   ]
  },
  {
   "cell_type": "code",
   "execution_count": 1,
   "metadata": {
    "collapsed": false,
    "slideshow": {
     "slide_type": "-"
    }
   },
   "outputs": [
    {
     "data": {
      "text/html": [
       "<table>\n",
       "<thead><tr><th scope=col>y</th><th scope=col>x</th><th scope=col>f</th></tr></thead>\n",
       "<tbody>\n",
       "\t<tr><td> 6   </td><td> 8.31</td><td>C    </td></tr>\n",
       "\t<tr><td> 6   </td><td> 9.44</td><td>C    </td></tr>\n",
       "\t<tr><td> 6   </td><td> 9.50</td><td>C    </td></tr>\n",
       "\t<tr><td>12   </td><td> 9.07</td><td>C    </td></tr>\n",
       "\t<tr><td>10   </td><td>10.16</td><td>C    </td></tr>\n",
       "\t<tr><td> 4   </td><td> 8.32</td><td>C    </td></tr>\n",
       "\t<tr><td> 9   </td><td>10.61</td><td>C    </td></tr>\n",
       "\t<tr><td> 9   </td><td>10.06</td><td>C    </td></tr>\n",
       "\t<tr><td> 9   </td><td> 9.93</td><td>C    </td></tr>\n",
       "\t<tr><td>11   </td><td>10.43</td><td>C    </td></tr>\n",
       "\t<tr><td> 6   </td><td>10.36</td><td>C    </td></tr>\n",
       "\t<tr><td>10   </td><td>10.15</td><td>C    </td></tr>\n",
       "\t<tr><td> 6   </td><td>10.92</td><td>C    </td></tr>\n",
       "\t<tr><td>10   </td><td> 8.85</td><td>C    </td></tr>\n",
       "\t<tr><td>11   </td><td> 9.42</td><td>C    </td></tr>\n",
       "\t<tr><td> 8   </td><td>11.11</td><td>C    </td></tr>\n",
       "\t<tr><td> 3   </td><td> 8.02</td><td>C    </td></tr>\n",
       "\t<tr><td> 8   </td><td>11.93</td><td>C    </td></tr>\n",
       "\t<tr><td> 5   </td><td> 8.55</td><td>C    </td></tr>\n",
       "\t<tr><td> 5   </td><td> 7.19</td><td>C    </td></tr>\n",
       "\t<tr><td> 4   </td><td> 9.83</td><td>C    </td></tr>\n",
       "\t<tr><td>11   </td><td>10.79</td><td>C    </td></tr>\n",
       "\t<tr><td> 5   </td><td> 8.89</td><td>C    </td></tr>\n",
       "\t<tr><td>10   </td><td>10.09</td><td>C    </td></tr>\n",
       "\t<tr><td> 6   </td><td>11.63</td><td>C    </td></tr>\n",
       "\t<tr><td> 6   </td><td>10.21</td><td>C    </td></tr>\n",
       "\t<tr><td> 7   </td><td> 9.45</td><td>C    </td></tr>\n",
       "\t<tr><td> 9   </td><td>10.44</td><td>C    </td></tr>\n",
       "\t<tr><td> 3   </td><td> 9.44</td><td>C    </td></tr>\n",
       "\t<tr><td>10   </td><td>10.48</td><td>C    </td></tr>\n",
       "\t<tr><td>...</td><td>...</td><td>...</td></tr>\n",
       "\t<tr><td>10   </td><td>10.54</td><td>T    </td></tr>\n",
       "\t<tr><td> 8   </td><td>11.30</td><td>T    </td></tr>\n",
       "\t<tr><td> 8   </td><td>12.40</td><td>T    </td></tr>\n",
       "\t<tr><td> 7   </td><td>10.18</td><td>T    </td></tr>\n",
       "\t<tr><td> 5   </td><td> 9.53</td><td>T    </td></tr>\n",
       "\t<tr><td> 6   </td><td>10.24</td><td>T    </td></tr>\n",
       "\t<tr><td> 8   </td><td>11.76</td><td>T    </td></tr>\n",
       "\t<tr><td> 9   </td><td> 9.52</td><td>T    </td></tr>\n",
       "\t<tr><td> 9   </td><td>10.40</td><td>T    </td></tr>\n",
       "\t<tr><td> 6   </td><td> 9.96</td><td>T    </td></tr>\n",
       "\t<tr><td> 7   </td><td>10.30</td><td>T    </td></tr>\n",
       "\t<tr><td>10   </td><td>11.54</td><td>T    </td></tr>\n",
       "\t<tr><td> 6   </td><td> 9.42</td><td>T    </td></tr>\n",
       "\t<tr><td>11   </td><td>11.28</td><td>T    </td></tr>\n",
       "\t<tr><td>11   </td><td> 9.73</td><td>T    </td></tr>\n",
       "\t<tr><td>11   </td><td>10.78</td><td>T    </td></tr>\n",
       "\t<tr><td> 5   </td><td>10.21</td><td>T    </td></tr>\n",
       "\t<tr><td> 6   </td><td>10.51</td><td>T    </td></tr>\n",
       "\t<tr><td> 4   </td><td>10.73</td><td>T    </td></tr>\n",
       "\t<tr><td> 5   </td><td> 8.85</td><td>T    </td></tr>\n",
       "\t<tr><td> 6   </td><td>11.20</td><td>T    </td></tr>\n",
       "\t<tr><td> 5   </td><td> 9.86</td><td>T    </td></tr>\n",
       "\t<tr><td> 8   </td><td>11.54</td><td>T    </td></tr>\n",
       "\t<tr><td> 5   </td><td>10.03</td><td>T    </td></tr>\n",
       "\t<tr><td> 9   </td><td>11.88</td><td>T    </td></tr>\n",
       "\t<tr><td> 8   </td><td> 9.15</td><td>T    </td></tr>\n",
       "\t<tr><td> 6   </td><td> 8.52</td><td>T    </td></tr>\n",
       "\t<tr><td> 8   </td><td>10.24</td><td>T    </td></tr>\n",
       "\t<tr><td> 7   </td><td>10.86</td><td>T    </td></tr>\n",
       "\t<tr><td> 9   </td><td> 9.97</td><td>T    </td></tr>\n",
       "</tbody>\n",
       "</table>\n"
      ],
      "text/latex": [
       "\\begin{tabular}{r|lll}\n",
       " y & x & f\\\\\n",
       "\\hline\n",
       "\t  6    &  8.31 & C    \\\\\n",
       "\t  6    &  9.44 & C    \\\\\n",
       "\t  6    &  9.50 & C    \\\\\n",
       "\t 12    &  9.07 & C    \\\\\n",
       "\t 10    & 10.16 & C    \\\\\n",
       "\t  4    &  8.32 & C    \\\\\n",
       "\t  9    & 10.61 & C    \\\\\n",
       "\t  9    & 10.06 & C    \\\\\n",
       "\t  9    &  9.93 & C    \\\\\n",
       "\t 11    & 10.43 & C    \\\\\n",
       "\t  6    & 10.36 & C    \\\\\n",
       "\t 10    & 10.15 & C    \\\\\n",
       "\t  6    & 10.92 & C    \\\\\n",
       "\t 10    &  8.85 & C    \\\\\n",
       "\t 11    &  9.42 & C    \\\\\n",
       "\t  8    & 11.11 & C    \\\\\n",
       "\t  3    &  8.02 & C    \\\\\n",
       "\t  8    & 11.93 & C    \\\\\n",
       "\t  5    &  8.55 & C    \\\\\n",
       "\t  5    &  7.19 & C    \\\\\n",
       "\t  4    &  9.83 & C    \\\\\n",
       "\t 11    & 10.79 & C    \\\\\n",
       "\t  5    &  8.89 & C    \\\\\n",
       "\t 10    & 10.09 & C    \\\\\n",
       "\t  6    & 11.63 & C    \\\\\n",
       "\t  6    & 10.21 & C    \\\\\n",
       "\t  7    &  9.45 & C    \\\\\n",
       "\t  9    & 10.44 & C    \\\\\n",
       "\t  3    &  9.44 & C    \\\\\n",
       "\t 10    & 10.48 & C    \\\\\n",
       "\t ... & ... & ...\\\\\n",
       "\t 10    & 10.54 & T    \\\\\n",
       "\t  8    & 11.30 & T    \\\\\n",
       "\t  8    & 12.40 & T    \\\\\n",
       "\t  7    & 10.18 & T    \\\\\n",
       "\t  5    &  9.53 & T    \\\\\n",
       "\t  6    & 10.24 & T    \\\\\n",
       "\t  8    & 11.76 & T    \\\\\n",
       "\t  9    &  9.52 & T    \\\\\n",
       "\t  9    & 10.40 & T    \\\\\n",
       "\t  6    &  9.96 & T    \\\\\n",
       "\t  7    & 10.30 & T    \\\\\n",
       "\t 10    & 11.54 & T    \\\\\n",
       "\t  6    &  9.42 & T    \\\\\n",
       "\t 11    & 11.28 & T    \\\\\n",
       "\t 11    &  9.73 & T    \\\\\n",
       "\t 11    & 10.78 & T    \\\\\n",
       "\t  5    & 10.21 & T    \\\\\n",
       "\t  6    & 10.51 & T    \\\\\n",
       "\t  4    & 10.73 & T    \\\\\n",
       "\t  5    &  8.85 & T    \\\\\n",
       "\t  6    & 11.20 & T    \\\\\n",
       "\t  5    &  9.86 & T    \\\\\n",
       "\t  8    & 11.54 & T    \\\\\n",
       "\t  5    & 10.03 & T    \\\\\n",
       "\t  9    & 11.88 & T    \\\\\n",
       "\t  8    &  9.15 & T    \\\\\n",
       "\t  6    &  8.52 & T    \\\\\n",
       "\t  8    & 10.24 & T    \\\\\n",
       "\t  7    & 10.86 & T    \\\\\n",
       "\t  9    &  9.97 & T    \\\\\n",
       "\\end{tabular}\n"
      ],
      "text/plain": [
       "    y   x     f  \n",
       "1    6   8.31 C  \n",
       "2    6   9.44 C  \n",
       "3    6   9.50 C  \n",
       "4   12   9.07 C  \n",
       "5   10  10.16 C  \n",
       "6    4   8.32 C  \n",
       "7    9  10.61 C  \n",
       "8    9  10.06 C  \n",
       "9    9   9.93 C  \n",
       "10  11  10.43 C  \n",
       "11   6  10.36 C  \n",
       "12  10  10.15 C  \n",
       "13   6  10.92 C  \n",
       "14  10   8.85 C  \n",
       "15  11   9.42 C  \n",
       "16   8  11.11 C  \n",
       "17   3   8.02 C  \n",
       "18   8  11.93 C  \n",
       "19   5   8.55 C  \n",
       "20   5   7.19 C  \n",
       "21   4   9.83 C  \n",
       "22  11  10.79 C  \n",
       "23   5   8.89 C  \n",
       "24  10  10.09 C  \n",
       "25   6  11.63 C  \n",
       "26   6  10.21 C  \n",
       "27   7   9.45 C  \n",
       "28   9  10.44 C  \n",
       "29   3   9.44 C  \n",
       "30  10  10.48 C  \n",
       "... ... ...   ...\n",
       "71  10  10.54 T  \n",
       "72   8  11.30 T  \n",
       "73   8  12.40 T  \n",
       "74   7  10.18 T  \n",
       "75   5   9.53 T  \n",
       "76   6  10.24 T  \n",
       "77   8  11.76 T  \n",
       "78   9   9.52 T  \n",
       "79   9  10.40 T  \n",
       "80   6   9.96 T  \n",
       "81   7  10.30 T  \n",
       "82  10  11.54 T  \n",
       "83   6   9.42 T  \n",
       "84  11  11.28 T  \n",
       "85  11   9.73 T  \n",
       "86  11  10.78 T  \n",
       "87   5  10.21 T  \n",
       "88   6  10.51 T  \n",
       "89   4  10.73 T  \n",
       "90   5   8.85 T  \n",
       "91   6  11.20 T  \n",
       "92   5   9.86 T  \n",
       "93   8  11.54 T  \n",
       "94   5  10.03 T  \n",
       "95   9  11.88 T  \n",
       "96   8   9.15 T  \n",
       "97   6   8.52 T  \n",
       "98   8  10.24 T  \n",
       "99   7  10.86 T  \n",
       "100  9   9.97 T  "
      ]
     },
     "metadata": {},
     "output_type": "display_data"
    }
   ],
   "source": [
    "d <- read.csv(\"http://hosho.ees.hokudai.ac.jp/~kubo/stat/iwanamibook/fig/poisson/data3a.csv\")\n",
    "d"
   ]
  },
  {
   "cell_type": "code",
   "execution_count": 2,
   "metadata": {
    "collapsed": false,
    "slideshow": {
     "slide_type": "-"
    }
   },
   "outputs": [
    {
     "data": {
      "text/html": [
       "<ol class=list-inline>\n",
       "\t<li>8.31</li>\n",
       "\t<li>9.44</li>\n",
       "\t<li>9.5</li>\n",
       "\t<li>9.07</li>\n",
       "\t<li>10.16</li>\n",
       "\t<li>8.32</li>\n",
       "\t<li>10.61</li>\n",
       "\t<li>10.06</li>\n",
       "\t<li>9.93</li>\n",
       "\t<li>10.43</li>\n",
       "\t<li>10.36</li>\n",
       "\t<li>10.15</li>\n",
       "\t<li>10.92</li>\n",
       "\t<li>8.85</li>\n",
       "\t<li>9.42</li>\n",
       "\t<li>11.11</li>\n",
       "\t<li>8.02</li>\n",
       "\t<li>11.93</li>\n",
       "\t<li>8.55</li>\n",
       "\t<li>7.19</li>\n",
       "\t<li>9.83</li>\n",
       "\t<li>10.79</li>\n",
       "\t<li>8.89</li>\n",
       "\t<li>10.09</li>\n",
       "\t<li>11.63</li>\n",
       "\t<li>10.21</li>\n",
       "\t<li>9.45</li>\n",
       "\t<li>10.44</li>\n",
       "\t<li>9.44</li>\n",
       "\t<li>10.48</li>\n",
       "\t<li>9.43</li>\n",
       "\t<li>10.32</li>\n",
       "\t<li>10.33</li>\n",
       "\t<li>8.5</li>\n",
       "\t<li>9.41</li>\n",
       "\t<li>8.96</li>\n",
       "\t<li>9.67</li>\n",
       "\t<li>10.26</li>\n",
       "\t<li>10.36</li>\n",
       "\t<li>11.8</li>\n",
       "\t<li>10.94</li>\n",
       "\t<li>10.25</li>\n",
       "\t<li>8.74</li>\n",
       "\t<li>10.46</li>\n",
       "\t<li>9.37</li>\n",
       "\t<li>9.74</li>\n",
       "\t<li>8.95</li>\n",
       "\t<li>8.74</li>\n",
       "\t<li>11.32</li>\n",
       "\t<li>9.25</li>\n",
       "\t<li>10.14</li>\n",
       "\t<li>9.05</li>\n",
       "\t<li>9.89</li>\n",
       "\t<li>8.76</li>\n",
       "\t<li>12.04</li>\n",
       "\t<li>9.91</li>\n",
       "\t<li>9.84</li>\n",
       "\t<li>11.87</li>\n",
       "\t<li>10.16</li>\n",
       "\t<li>9.34</li>\n",
       "\t<li>10.17</li>\n",
       "\t<li>10.99</li>\n",
       "\t<li>9.19</li>\n",
       "\t<li>10.67</li>\n",
       "\t<li>10.96</li>\n",
       "\t<li>10.55</li>\n",
       "\t<li>9.69</li>\n",
       "\t<li>10.91</li>\n",
       "\t<li>9.6</li>\n",
       "\t<li>12.37</li>\n",
       "\t<li>10.54</li>\n",
       "\t<li>11.3</li>\n",
       "\t<li>12.4</li>\n",
       "\t<li>10.18</li>\n",
       "\t<li>9.53</li>\n",
       "\t<li>10.24</li>\n",
       "\t<li>11.76</li>\n",
       "\t<li>9.52</li>\n",
       "\t<li>10.4</li>\n",
       "\t<li>9.96</li>\n",
       "\t<li>10.3</li>\n",
       "\t<li>11.54</li>\n",
       "\t<li>9.42</li>\n",
       "\t<li>11.28</li>\n",
       "\t<li>9.73</li>\n",
       "\t<li>10.78</li>\n",
       "\t<li>10.21</li>\n",
       "\t<li>10.51</li>\n",
       "\t<li>10.73</li>\n",
       "\t<li>8.85</li>\n",
       "\t<li>11.2</li>\n",
       "\t<li>9.86</li>\n",
       "\t<li>11.54</li>\n",
       "\t<li>10.03</li>\n",
       "\t<li>11.88</li>\n",
       "\t<li>9.15</li>\n",
       "\t<li>8.52</li>\n",
       "\t<li>10.24</li>\n",
       "\t<li>10.86</li>\n",
       "\t<li>9.97</li>\n",
       "</ol>\n"
      ],
      "text/latex": [
       "\\begin{enumerate*}\n",
       "\\item 8.31\n",
       "\\item 9.44\n",
       "\\item 9.5\n",
       "\\item 9.07\n",
       "\\item 10.16\n",
       "\\item 8.32\n",
       "\\item 10.61\n",
       "\\item 10.06\n",
       "\\item 9.93\n",
       "\\item 10.43\n",
       "\\item 10.36\n",
       "\\item 10.15\n",
       "\\item 10.92\n",
       "\\item 8.85\n",
       "\\item 9.42\n",
       "\\item 11.11\n",
       "\\item 8.02\n",
       "\\item 11.93\n",
       "\\item 8.55\n",
       "\\item 7.19\n",
       "\\item 9.83\n",
       "\\item 10.79\n",
       "\\item 8.89\n",
       "\\item 10.09\n",
       "\\item 11.63\n",
       "\\item 10.21\n",
       "\\item 9.45\n",
       "\\item 10.44\n",
       "\\item 9.44\n",
       "\\item 10.48\n",
       "\\item 9.43\n",
       "\\item 10.32\n",
       "\\item 10.33\n",
       "\\item 8.5\n",
       "\\item 9.41\n",
       "\\item 8.96\n",
       "\\item 9.67\n",
       "\\item 10.26\n",
       "\\item 10.36\n",
       "\\item 11.8\n",
       "\\item 10.94\n",
       "\\item 10.25\n",
       "\\item 8.74\n",
       "\\item 10.46\n",
       "\\item 9.37\n",
       "\\item 9.74\n",
       "\\item 8.95\n",
       "\\item 8.74\n",
       "\\item 11.32\n",
       "\\item 9.25\n",
       "\\item 10.14\n",
       "\\item 9.05\n",
       "\\item 9.89\n",
       "\\item 8.76\n",
       "\\item 12.04\n",
       "\\item 9.91\n",
       "\\item 9.84\n",
       "\\item 11.87\n",
       "\\item 10.16\n",
       "\\item 9.34\n",
       "\\item 10.17\n",
       "\\item 10.99\n",
       "\\item 9.19\n",
       "\\item 10.67\n",
       "\\item 10.96\n",
       "\\item 10.55\n",
       "\\item 9.69\n",
       "\\item 10.91\n",
       "\\item 9.6\n",
       "\\item 12.37\n",
       "\\item 10.54\n",
       "\\item 11.3\n",
       "\\item 12.4\n",
       "\\item 10.18\n",
       "\\item 9.53\n",
       "\\item 10.24\n",
       "\\item 11.76\n",
       "\\item 9.52\n",
       "\\item 10.4\n",
       "\\item 9.96\n",
       "\\item 10.3\n",
       "\\item 11.54\n",
       "\\item 9.42\n",
       "\\item 11.28\n",
       "\\item 9.73\n",
       "\\item 10.78\n",
       "\\item 10.21\n",
       "\\item 10.51\n",
       "\\item 10.73\n",
       "\\item 8.85\n",
       "\\item 11.2\n",
       "\\item 9.86\n",
       "\\item 11.54\n",
       "\\item 10.03\n",
       "\\item 11.88\n",
       "\\item 9.15\n",
       "\\item 8.52\n",
       "\\item 10.24\n",
       "\\item 10.86\n",
       "\\item 9.97\n",
       "\\end{enumerate*}\n"
      ],
      "text/markdown": [
       "1. 8.31\n",
       "2. 9.44\n",
       "3. 9.5\n",
       "4. 9.07\n",
       "5. 10.16\n",
       "6. 8.32\n",
       "7. 10.61\n",
       "8. 10.06\n",
       "9. 9.93\n",
       "10. 10.43\n",
       "11. 10.36\n",
       "12. 10.15\n",
       "13. 10.92\n",
       "14. 8.85\n",
       "15. 9.42\n",
       "16. 11.11\n",
       "17. 8.02\n",
       "18. 11.93\n",
       "19. 8.55\n",
       "20. 7.19\n",
       "21. 9.83\n",
       "22. 10.79\n",
       "23. 8.89\n",
       "24. 10.09\n",
       "25. 11.63\n",
       "26. 10.21\n",
       "27. 9.45\n",
       "28. 10.44\n",
       "29. 9.44\n",
       "30. 10.48\n",
       "31. 9.43\n",
       "32. 10.32\n",
       "33. 10.33\n",
       "34. 8.5\n",
       "35. 9.41\n",
       "36. 8.96\n",
       "37. 9.67\n",
       "38. 10.26\n",
       "39. 10.36\n",
       "40. 11.8\n",
       "41. 10.94\n",
       "42. 10.25\n",
       "43. 8.74\n",
       "44. 10.46\n",
       "45. 9.37\n",
       "46. 9.74\n",
       "47. 8.95\n",
       "48. 8.74\n",
       "49. 11.32\n",
       "50. 9.25\n",
       "51. 10.14\n",
       "52. 9.05\n",
       "53. 9.89\n",
       "54. 8.76\n",
       "55. 12.04\n",
       "56. 9.91\n",
       "57. 9.84\n",
       "58. 11.87\n",
       "59. 10.16\n",
       "60. 9.34\n",
       "61. 10.17\n",
       "62. 10.99\n",
       "63. 9.19\n",
       "64. 10.67\n",
       "65. 10.96\n",
       "66. 10.55\n",
       "67. 9.69\n",
       "68. 10.91\n",
       "69. 9.6\n",
       "70. 12.37\n",
       "71. 10.54\n",
       "72. 11.3\n",
       "73. 12.4\n",
       "74. 10.18\n",
       "75. 9.53\n",
       "76. 10.24\n",
       "77. 11.76\n",
       "78. 9.52\n",
       "79. 10.4\n",
       "80. 9.96\n",
       "81. 10.3\n",
       "82. 11.54\n",
       "83. 9.42\n",
       "84. 11.28\n",
       "85. 9.73\n",
       "86. 10.78\n",
       "87. 10.21\n",
       "88. 10.51\n",
       "89. 10.73\n",
       "90. 8.85\n",
       "91. 11.2\n",
       "92. 9.86\n",
       "93. 11.54\n",
       "94. 10.03\n",
       "95. 11.88\n",
       "96. 9.15\n",
       "97. 8.52\n",
       "98. 10.24\n",
       "99. 10.86\n",
       "100. 9.97\n",
       "\n",
       "\n"
      ],
      "text/plain": [
       "  [1]  8.31  9.44  9.50  9.07 10.16  8.32 10.61 10.06  9.93 10.43 10.36 10.15\n",
       " [13] 10.92  8.85  9.42 11.11  8.02 11.93  8.55  7.19  9.83 10.79  8.89 10.09\n",
       " [25] 11.63 10.21  9.45 10.44  9.44 10.48  9.43 10.32 10.33  8.50  9.41  8.96\n",
       " [37]  9.67 10.26 10.36 11.80 10.94 10.25  8.74 10.46  9.37  9.74  8.95  8.74\n",
       " [49] 11.32  9.25 10.14  9.05  9.89  8.76 12.04  9.91  9.84 11.87 10.16  9.34\n",
       " [61] 10.17 10.99  9.19 10.67 10.96 10.55  9.69 10.91  9.60 12.37 10.54 11.30\n",
       " [73] 12.40 10.18  9.53 10.24 11.76  9.52 10.40  9.96 10.30 11.54  9.42 11.28\n",
       " [85]  9.73 10.78 10.21 10.51 10.73  8.85 11.20  9.86 11.54 10.03 11.88  9.15\n",
       " [97]  8.52 10.24 10.86  9.97"
      ]
     },
     "metadata": {},
     "output_type": "display_data"
    }
   ],
   "source": [
    "d$x"
   ]
  },
  {
   "cell_type": "code",
   "execution_count": 3,
   "metadata": {
    "collapsed": false,
    "scrolled": true,
    "slideshow": {
     "slide_type": "-"
    }
   },
   "outputs": [
    {
     "data": {
      "text/html": [
       "<ol class=list-inline>\n",
       "\t<li>6</li>\n",
       "\t<li>6</li>\n",
       "\t<li>6</li>\n",
       "\t<li>12</li>\n",
       "\t<li>10</li>\n",
       "\t<li>4</li>\n",
       "\t<li>9</li>\n",
       "\t<li>9</li>\n",
       "\t<li>9</li>\n",
       "\t<li>11</li>\n",
       "\t<li>6</li>\n",
       "\t<li>10</li>\n",
       "\t<li>6</li>\n",
       "\t<li>10</li>\n",
       "\t<li>11</li>\n",
       "\t<li>8</li>\n",
       "\t<li>3</li>\n",
       "\t<li>8</li>\n",
       "\t<li>5</li>\n",
       "\t<li>5</li>\n",
       "\t<li>4</li>\n",
       "\t<li>11</li>\n",
       "\t<li>5</li>\n",
       "\t<li>10</li>\n",
       "\t<li>6</li>\n",
       "\t<li>6</li>\n",
       "\t<li>7</li>\n",
       "\t<li>9</li>\n",
       "\t<li>3</li>\n",
       "\t<li>10</li>\n",
       "\t<li>2</li>\n",
       "\t<li>9</li>\n",
       "\t<li>10</li>\n",
       "\t<li>5</li>\n",
       "\t<li>11</li>\n",
       "\t<li>10</li>\n",
       "\t<li>4</li>\n",
       "\t<li>8</li>\n",
       "\t<li>9</li>\n",
       "\t<li>12</li>\n",
       "\t<li>8</li>\n",
       "\t<li>9</li>\n",
       "\t<li>8</li>\n",
       "\t<li>6</li>\n",
       "\t<li>6</li>\n",
       "\t<li>10</li>\n",
       "\t<li>10</li>\n",
       "\t<li>9</li>\n",
       "\t<li>12</li>\n",
       "\t<li>6</li>\n",
       "\t<li>14</li>\n",
       "\t<li>6</li>\n",
       "\t<li>7</li>\n",
       "\t<li>9</li>\n",
       "\t<li>6</li>\n",
       "\t<li>7</li>\n",
       "\t<li>9</li>\n",
       "\t<li>13</li>\n",
       "\t<li>9</li>\n",
       "\t<li>13</li>\n",
       "\t<li>7</li>\n",
       "\t<li>8</li>\n",
       "\t<li>10</li>\n",
       "\t<li>7</li>\n",
       "\t<li>12</li>\n",
       "\t<li>6</li>\n",
       "\t<li>15</li>\n",
       "\t<li>3</li>\n",
       "\t<li>4</li>\n",
       "\t<li>6</li>\n",
       "\t<li>10</li>\n",
       "\t<li>8</li>\n",
       "\t<li>8</li>\n",
       "\t<li>7</li>\n",
       "\t<li>5</li>\n",
       "\t<li>6</li>\n",
       "\t<li>8</li>\n",
       "\t<li>9</li>\n",
       "\t<li>9</li>\n",
       "\t<li>6</li>\n",
       "\t<li>7</li>\n",
       "\t<li>10</li>\n",
       "\t<li>6</li>\n",
       "\t<li>11</li>\n",
       "\t<li>11</li>\n",
       "\t<li>11</li>\n",
       "\t<li>5</li>\n",
       "\t<li>6</li>\n",
       "\t<li>4</li>\n",
       "\t<li>5</li>\n",
       "\t<li>6</li>\n",
       "\t<li>5</li>\n",
       "\t<li>8</li>\n",
       "\t<li>5</li>\n",
       "\t<li>9</li>\n",
       "\t<li>8</li>\n",
       "\t<li>6</li>\n",
       "\t<li>8</li>\n",
       "\t<li>7</li>\n",
       "\t<li>9</li>\n",
       "</ol>\n"
      ],
      "text/latex": [
       "\\begin{enumerate*}\n",
       "\\item 6\n",
       "\\item 6\n",
       "\\item 6\n",
       "\\item 12\n",
       "\\item 10\n",
       "\\item 4\n",
       "\\item 9\n",
       "\\item 9\n",
       "\\item 9\n",
       "\\item 11\n",
       "\\item 6\n",
       "\\item 10\n",
       "\\item 6\n",
       "\\item 10\n",
       "\\item 11\n",
       "\\item 8\n",
       "\\item 3\n",
       "\\item 8\n",
       "\\item 5\n",
       "\\item 5\n",
       "\\item 4\n",
       "\\item 11\n",
       "\\item 5\n",
       "\\item 10\n",
       "\\item 6\n",
       "\\item 6\n",
       "\\item 7\n",
       "\\item 9\n",
       "\\item 3\n",
       "\\item 10\n",
       "\\item 2\n",
       "\\item 9\n",
       "\\item 10\n",
       "\\item 5\n",
       "\\item 11\n",
       "\\item 10\n",
       "\\item 4\n",
       "\\item 8\n",
       "\\item 9\n",
       "\\item 12\n",
       "\\item 8\n",
       "\\item 9\n",
       "\\item 8\n",
       "\\item 6\n",
       "\\item 6\n",
       "\\item 10\n",
       "\\item 10\n",
       "\\item 9\n",
       "\\item 12\n",
       "\\item 6\n",
       "\\item 14\n",
       "\\item 6\n",
       "\\item 7\n",
       "\\item 9\n",
       "\\item 6\n",
       "\\item 7\n",
       "\\item 9\n",
       "\\item 13\n",
       "\\item 9\n",
       "\\item 13\n",
       "\\item 7\n",
       "\\item 8\n",
       "\\item 10\n",
       "\\item 7\n",
       "\\item 12\n",
       "\\item 6\n",
       "\\item 15\n",
       "\\item 3\n",
       "\\item 4\n",
       "\\item 6\n",
       "\\item 10\n",
       "\\item 8\n",
       "\\item 8\n",
       "\\item 7\n",
       "\\item 5\n",
       "\\item 6\n",
       "\\item 8\n",
       "\\item 9\n",
       "\\item 9\n",
       "\\item 6\n",
       "\\item 7\n",
       "\\item 10\n",
       "\\item 6\n",
       "\\item 11\n",
       "\\item 11\n",
       "\\item 11\n",
       "\\item 5\n",
       "\\item 6\n",
       "\\item 4\n",
       "\\item 5\n",
       "\\item 6\n",
       "\\item 5\n",
       "\\item 8\n",
       "\\item 5\n",
       "\\item 9\n",
       "\\item 8\n",
       "\\item 6\n",
       "\\item 8\n",
       "\\item 7\n",
       "\\item 9\n",
       "\\end{enumerate*}\n"
      ],
      "text/markdown": [
       "1. 6\n",
       "2. 6\n",
       "3. 6\n",
       "4. 12\n",
       "5. 10\n",
       "6. 4\n",
       "7. 9\n",
       "8. 9\n",
       "9. 9\n",
       "10. 11\n",
       "11. 6\n",
       "12. 10\n",
       "13. 6\n",
       "14. 10\n",
       "15. 11\n",
       "16. 8\n",
       "17. 3\n",
       "18. 8\n",
       "19. 5\n",
       "20. 5\n",
       "21. 4\n",
       "22. 11\n",
       "23. 5\n",
       "24. 10\n",
       "25. 6\n",
       "26. 6\n",
       "27. 7\n",
       "28. 9\n",
       "29. 3\n",
       "30. 10\n",
       "31. 2\n",
       "32. 9\n",
       "33. 10\n",
       "34. 5\n",
       "35. 11\n",
       "36. 10\n",
       "37. 4\n",
       "38. 8\n",
       "39. 9\n",
       "40. 12\n",
       "41. 8\n",
       "42. 9\n",
       "43. 8\n",
       "44. 6\n",
       "45. 6\n",
       "46. 10\n",
       "47. 10\n",
       "48. 9\n",
       "49. 12\n",
       "50. 6\n",
       "51. 14\n",
       "52. 6\n",
       "53. 7\n",
       "54. 9\n",
       "55. 6\n",
       "56. 7\n",
       "57. 9\n",
       "58. 13\n",
       "59. 9\n",
       "60. 13\n",
       "61. 7\n",
       "62. 8\n",
       "63. 10\n",
       "64. 7\n",
       "65. 12\n",
       "66. 6\n",
       "67. 15\n",
       "68. 3\n",
       "69. 4\n",
       "70. 6\n",
       "71. 10\n",
       "72. 8\n",
       "73. 8\n",
       "74. 7\n",
       "75. 5\n",
       "76. 6\n",
       "77. 8\n",
       "78. 9\n",
       "79. 9\n",
       "80. 6\n",
       "81. 7\n",
       "82. 10\n",
       "83. 6\n",
       "84. 11\n",
       "85. 11\n",
       "86. 11\n",
       "87. 5\n",
       "88. 6\n",
       "89. 4\n",
       "90. 5\n",
       "91. 6\n",
       "92. 5\n",
       "93. 8\n",
       "94. 5\n",
       "95. 9\n",
       "96. 8\n",
       "97. 6\n",
       "98. 8\n",
       "99. 7\n",
       "100. 9\n",
       "\n",
       "\n"
      ],
      "text/plain": [
       "  [1]  6  6  6 12 10  4  9  9  9 11  6 10  6 10 11  8  3  8  5  5  4 11  5 10  6\n",
       " [26]  6  7  9  3 10  2  9 10  5 11 10  4  8  9 12  8  9  8  6  6 10 10  9 12  6\n",
       " [51] 14  6  7  9  6  7  9 13  9 13  7  8 10  7 12  6 15  3  4  6 10  8  8  7  5\n",
       " [76]  6  8  9  9  6  7 10  6 11 11 11  5  6  4  5  6  5  8  5  9  8  6  8  7  9"
      ]
     },
     "metadata": {},
     "output_type": "display_data"
    }
   ],
   "source": [
    "d$y"
   ]
  },
  {
   "cell_type": "code",
   "execution_count": 4,
   "metadata": {
    "collapsed": false,
    "slideshow": {
     "slide_type": "-"
    }
   },
   "outputs": [
    {
     "data": {
      "text/html": [
       "<ol class=list-inline>\n",
       "\t<li>C</li>\n",
       "\t<li>C</li>\n",
       "\t<li>C</li>\n",
       "\t<li>C</li>\n",
       "\t<li>C</li>\n",
       "\t<li>C</li>\n",
       "\t<li>C</li>\n",
       "\t<li>C</li>\n",
       "\t<li>C</li>\n",
       "\t<li>C</li>\n",
       "\t<li>C</li>\n",
       "\t<li>C</li>\n",
       "\t<li>C</li>\n",
       "\t<li>C</li>\n",
       "\t<li>C</li>\n",
       "\t<li>C</li>\n",
       "\t<li>C</li>\n",
       "\t<li>C</li>\n",
       "\t<li>C</li>\n",
       "\t<li>C</li>\n",
       "\t<li>C</li>\n",
       "\t<li>C</li>\n",
       "\t<li>C</li>\n",
       "\t<li>C</li>\n",
       "\t<li>C</li>\n",
       "\t<li>C</li>\n",
       "\t<li>C</li>\n",
       "\t<li>C</li>\n",
       "\t<li>C</li>\n",
       "\t<li>C</li>\n",
       "\t<li>C</li>\n",
       "\t<li>C</li>\n",
       "\t<li>C</li>\n",
       "\t<li>C</li>\n",
       "\t<li>C</li>\n",
       "\t<li>C</li>\n",
       "\t<li>C</li>\n",
       "\t<li>C</li>\n",
       "\t<li>C</li>\n",
       "\t<li>C</li>\n",
       "\t<li>C</li>\n",
       "\t<li>C</li>\n",
       "\t<li>C</li>\n",
       "\t<li>C</li>\n",
       "\t<li>C</li>\n",
       "\t<li>C</li>\n",
       "\t<li>C</li>\n",
       "\t<li>C</li>\n",
       "\t<li>C</li>\n",
       "\t<li>C</li>\n",
       "\t<li>T</li>\n",
       "\t<li>T</li>\n",
       "\t<li>T</li>\n",
       "\t<li>T</li>\n",
       "\t<li>T</li>\n",
       "\t<li>T</li>\n",
       "\t<li>T</li>\n",
       "\t<li>T</li>\n",
       "\t<li>T</li>\n",
       "\t<li>T</li>\n",
       "\t<li>T</li>\n",
       "\t<li>T</li>\n",
       "\t<li>T</li>\n",
       "\t<li>T</li>\n",
       "\t<li>T</li>\n",
       "\t<li>T</li>\n",
       "\t<li>T</li>\n",
       "\t<li>T</li>\n",
       "\t<li>T</li>\n",
       "\t<li>T</li>\n",
       "\t<li>T</li>\n",
       "\t<li>T</li>\n",
       "\t<li>T</li>\n",
       "\t<li>T</li>\n",
       "\t<li>T</li>\n",
       "\t<li>T</li>\n",
       "\t<li>T</li>\n",
       "\t<li>T</li>\n",
       "\t<li>T</li>\n",
       "\t<li>T</li>\n",
       "\t<li>T</li>\n",
       "\t<li>T</li>\n",
       "\t<li>T</li>\n",
       "\t<li>T</li>\n",
       "\t<li>T</li>\n",
       "\t<li>T</li>\n",
       "\t<li>T</li>\n",
       "\t<li>T</li>\n",
       "\t<li>T</li>\n",
       "\t<li>T</li>\n",
       "\t<li>T</li>\n",
       "\t<li>T</li>\n",
       "\t<li>T</li>\n",
       "\t<li>T</li>\n",
       "\t<li>T</li>\n",
       "\t<li>T</li>\n",
       "\t<li>T</li>\n",
       "\t<li>T</li>\n",
       "\t<li>T</li>\n",
       "\t<li>T</li>\n",
       "</ol>\n"
      ],
      "text/latex": [
       "\\begin{enumerate*}\n",
       "\\item C\n",
       "\\item C\n",
       "\\item C\n",
       "\\item C\n",
       "\\item C\n",
       "\\item C\n",
       "\\item C\n",
       "\\item C\n",
       "\\item C\n",
       "\\item C\n",
       "\\item C\n",
       "\\item C\n",
       "\\item C\n",
       "\\item C\n",
       "\\item C\n",
       "\\item C\n",
       "\\item C\n",
       "\\item C\n",
       "\\item C\n",
       "\\item C\n",
       "\\item C\n",
       "\\item C\n",
       "\\item C\n",
       "\\item C\n",
       "\\item C\n",
       "\\item C\n",
       "\\item C\n",
       "\\item C\n",
       "\\item C\n",
       "\\item C\n",
       "\\item C\n",
       "\\item C\n",
       "\\item C\n",
       "\\item C\n",
       "\\item C\n",
       "\\item C\n",
       "\\item C\n",
       "\\item C\n",
       "\\item C\n",
       "\\item C\n",
       "\\item C\n",
       "\\item C\n",
       "\\item C\n",
       "\\item C\n",
       "\\item C\n",
       "\\item C\n",
       "\\item C\n",
       "\\item C\n",
       "\\item C\n",
       "\\item C\n",
       "\\item T\n",
       "\\item T\n",
       "\\item T\n",
       "\\item T\n",
       "\\item T\n",
       "\\item T\n",
       "\\item T\n",
       "\\item T\n",
       "\\item T\n",
       "\\item T\n",
       "\\item T\n",
       "\\item T\n",
       "\\item T\n",
       "\\item T\n",
       "\\item T\n",
       "\\item T\n",
       "\\item T\n",
       "\\item T\n",
       "\\item T\n",
       "\\item T\n",
       "\\item T\n",
       "\\item T\n",
       "\\item T\n",
       "\\item T\n",
       "\\item T\n",
       "\\item T\n",
       "\\item T\n",
       "\\item T\n",
       "\\item T\n",
       "\\item T\n",
       "\\item T\n",
       "\\item T\n",
       "\\item T\n",
       "\\item T\n",
       "\\item T\n",
       "\\item T\n",
       "\\item T\n",
       "\\item T\n",
       "\\item T\n",
       "\\item T\n",
       "\\item T\n",
       "\\item T\n",
       "\\item T\n",
       "\\item T\n",
       "\\item T\n",
       "\\item T\n",
       "\\item T\n",
       "\\item T\n",
       "\\item T\n",
       "\\item T\n",
       "\\end{enumerate*}\n"
      ],
      "text/markdown": [
       "1. C\n",
       "2. C\n",
       "3. C\n",
       "4. C\n",
       "5. C\n",
       "6. C\n",
       "7. C\n",
       "8. C\n",
       "9. C\n",
       "10. C\n",
       "11. C\n",
       "12. C\n",
       "13. C\n",
       "14. C\n",
       "15. C\n",
       "16. C\n",
       "17. C\n",
       "18. C\n",
       "19. C\n",
       "20. C\n",
       "21. C\n",
       "22. C\n",
       "23. C\n",
       "24. C\n",
       "25. C\n",
       "26. C\n",
       "27. C\n",
       "28. C\n",
       "29. C\n",
       "30. C\n",
       "31. C\n",
       "32. C\n",
       "33. C\n",
       "34. C\n",
       "35. C\n",
       "36. C\n",
       "37. C\n",
       "38. C\n",
       "39. C\n",
       "40. C\n",
       "41. C\n",
       "42. C\n",
       "43. C\n",
       "44. C\n",
       "45. C\n",
       "46. C\n",
       "47. C\n",
       "48. C\n",
       "49. C\n",
       "50. C\n",
       "51. T\n",
       "52. T\n",
       "53. T\n",
       "54. T\n",
       "55. T\n",
       "56. T\n",
       "57. T\n",
       "58. T\n",
       "59. T\n",
       "60. T\n",
       "61. T\n",
       "62. T\n",
       "63. T\n",
       "64. T\n",
       "65. T\n",
       "66. T\n",
       "67. T\n",
       "68. T\n",
       "69. T\n",
       "70. T\n",
       "71. T\n",
       "72. T\n",
       "73. T\n",
       "74. T\n",
       "75. T\n",
       "76. T\n",
       "77. T\n",
       "78. T\n",
       "79. T\n",
       "80. T\n",
       "81. T\n",
       "82. T\n",
       "83. T\n",
       "84. T\n",
       "85. T\n",
       "86. T\n",
       "87. T\n",
       "88. T\n",
       "89. T\n",
       "90. T\n",
       "91. T\n",
       "92. T\n",
       "93. T\n",
       "94. T\n",
       "95. T\n",
       "96. T\n",
       "97. T\n",
       "98. T\n",
       "99. T\n",
       "100. T\n",
       "\n",
       "\n"
      ],
      "text/plain": [
       "  [1] C C C C C C C C C C C C C C C C C C C C C C C C C C C C C C C C C C C C C\n",
       " [38] C C C C C C C C C C C C C T T T T T T T T T T T T T T T T T T T T T T T T\n",
       " [75] T T T T T T T T T T T T T T T T T T T T T T T T T T\n",
       "Levels: C T"
      ]
     },
     "metadata": {},
     "output_type": "display_data"
    }
   ],
   "source": [
    "d$f"
   ]
  },
  {
   "cell_type": "markdown",
   "metadata": {
    "slideshow": {
     "slide_type": "slide"
    }
   },
   "source": [
    "-----\n",
    "\n",
    "#### class()関数を使うとデータオブジェクトの型を調べられる"
   ]
  },
  {
   "cell_type": "code",
   "execution_count": 5,
   "metadata": {
    "collapsed": false,
    "slideshow": {
     "slide_type": "-"
    }
   },
   "outputs": [
    {
     "data": {
      "text/html": [
       "'data.frame'"
      ],
      "text/latex": [
       "'data.frame'"
      ],
      "text/markdown": [
       "'data.frame'"
      ],
      "text/plain": [
       "[1] \"data.frame\""
      ]
     },
     "metadata": {},
     "output_type": "display_data"
    }
   ],
   "source": [
    "class(d)"
   ]
  },
  {
   "cell_type": "code",
   "execution_count": 6,
   "metadata": {
    "collapsed": false,
    "slideshow": {
     "slide_type": "-"
    }
   },
   "outputs": [
    {
     "data": {
      "text/html": [
       "'integer'"
      ],
      "text/latex": [
       "'integer'"
      ],
      "text/markdown": [
       "'integer'"
      ],
      "text/plain": [
       "[1] \"integer\""
      ]
     },
     "metadata": {},
     "output_type": "display_data"
    }
   ],
   "source": [
    "class(d$y)"
   ]
  },
  {
   "cell_type": "code",
   "execution_count": 7,
   "metadata": {
    "collapsed": false
   },
   "outputs": [
    {
     "data": {
      "text/html": [
       "'numeric'"
      ],
      "text/latex": [
       "'numeric'"
      ],
      "text/markdown": [
       "'numeric'"
      ],
      "text/plain": [
       "[1] \"numeric\""
      ]
     },
     "metadata": {},
     "output_type": "display_data"
    }
   ],
   "source": [
    "class(d$x)"
   ]
  },
  {
   "cell_type": "code",
   "execution_count": 8,
   "metadata": {
    "collapsed": false
   },
   "outputs": [
    {
     "data": {
      "text/html": [
       "'factor'"
      ],
      "text/latex": [
       "'factor'"
      ],
      "text/markdown": [
       "'factor'"
      ],
      "text/plain": [
       "[1] \"factor\""
      ]
     },
     "metadata": {},
     "output_type": "display_data"
    }
   ],
   "source": [
    "class(d$f)"
   ]
  },
  {
   "cell_type": "markdown",
   "metadata": {
    "slideshow": {
     "slide_type": "slide"
    }
   },
   "source": [
    "-----\n",
    "\n",
    "#### summary()関数を使うとデータフレイムの概要が分かる"
   ]
  },
  {
   "cell_type": "code",
   "execution_count": 9,
   "metadata": {
    "collapsed": false
   },
   "outputs": [
    {
     "data": {
      "text/plain": [
       "       y               x          f     \n",
       " Min.   : 2.00   Min.   : 7.190   C:50  \n",
       " 1st Qu.: 6.00   1st Qu.: 9.428   T:50  \n",
       " Median : 8.00   Median :10.155         \n",
       " Mean   : 7.83   Mean   :10.089         \n",
       " 3rd Qu.:10.00   3rd Qu.:10.685         \n",
       " Max.   :15.00   Max.   :12.400         "
      ]
     },
     "metadata": {},
     "output_type": "display_data"
    }
   ],
   "source": [
    "summary(d)"
   ]
  },
  {
   "cell_type": "markdown",
   "metadata": {
    "slideshow": {
     "slide_type": "slide"
    }
   },
   "source": [
    "-----\n",
    "\n",
    "### 統計モデリングの前にデータを図示する\n",
    "\n",
    "**散布図**(scatter plot)  \n",
    "* 横軸に$x$列\n",
    "* 縦軸に$y$列"
   ]
  },
  {
   "cell_type": "code",
   "execution_count": 10,
   "metadata": {
    "collapsed": false
   },
   "outputs": [
    {
     "data": {
      "image/png": "[encoded data removed]",
      "text/plain": [
       "plot without title"
      ]
     },
     "metadata": {},
     "output_type": "display_data"
    }
   ],
   "source": [
    "plot(d$x, d$y, pch = c(21, 19)[d$f])\n",
    "legend(\"topleft\", legend = c(\"C\", \"T\"), pch = c(21,19))"
   ]
  },
  {
   "cell_type": "markdown",
   "metadata": {
    "slideshow": {
     "slide_type": "slide"
    }
   },
   "source": [
    "**箱ひげ図**(box-whisker plot)  \n",
    "* 横軸が因子型(factor)$\\rightarrow$$f$列"
   ]
  },
  {
   "cell_type": "code",
   "execution_count": 11,
   "metadata": {
    "collapsed": false
   },
   "outputs": [
    {
     "data": {
      "image/png": "[encoded data removed]",
      "text/plain": [
       "plot without title"
      ]
     },
     "metadata": {},
     "output_type": "display_data"
    }
   ],
   "source": [
    "plot(d$f, d$y)"
   ]
  },
  {
   "cell_type": "markdown",
   "metadata": {
    "slideshow": {
     "slide_type": "slide"
    }
   },
   "source": [
    "#### 図を見てわかること?\n",
    "\n",
    "* 体サイズ$x$が増加するにつれて種子数$y$が増えているように見えるけど…はっきりしない\n",
    "* 肥料の効果$f$はあまりはっきりしない\n",
    "\n",
    "#### デフォルトで箱ひげ図になる\n",
    "\n",
    "分布のゆがみなども図示されるのでよく見かける「平均$\\pm$標準偏差」より優れている.  \n",
    "$\\rightarrow$「標本分布をよく見ろ」ということ…?"
   ]
  },
  {
   "cell_type": "markdown",
   "metadata": {
    "slideshow": {
     "slide_type": "slide"
    }
   },
   "source": [
    "-----\n",
    "\n",
    "## ポアソン回帰の統計モデル\n",
    "\n",
    "まず最初に個体$i$の体サイズ$x_i$だけに依存する統計モデルについて考えてみる.  \n",
    "  * 説明変数$\\cdots$$x_i$\n",
    "  * 応答変数$\\cdots$$y_i$\n",
    "  * 施肥効果$f_i$は種子数に影響無さそうなのでここでは無視する\n",
    "  \n",
    "ある個体$i$において種子数が$y_i$である確率$p(y_i \\mid \\lambda_i)$はポアソン分布に従う.\n",
    "\n",
    "$$p(y_i \\mid \\lambda_i) = \\frac{\\lambda^{y_i}_i exp(-\\lambda_i)}{y_i!}$$"
   ]
  },
  {
   "cell_type": "markdown",
   "metadata": {
    "slideshow": {
     "slide_type": "slide"
    }
   },
   "source": [
    "\n",
    "個体ごとに異なる平均$\\lambda_i$を説明変数$x_i$の関数として定義しなければならない.  \n",
    "ある個体$i$の平均種子数$\\lambda_i$を\n",
    "\n",
    "　　$\\lambda_i = exp(\\beta_1 + \\beta_2x_i)$\n",
    "\n",
    "とする. この時, \n",
    "  * **パラメータ**(parameter)$\\cdots \\beta_1, \\beta_2$  　　# **係数**(coefficient)とも\n",
    "  * **切片**(intercept)$\\cdots$$\\beta_1$\n",
    "  * **傾き**(slope)$\\cdots$$\\beta_2$\n",
    "  * 説明変数を**共変量**(covariate)と呼ぶ場合も"
   ]
  },
  {
   "cell_type": "code",
   "execution_count": 12,
   "metadata": {
    "collapsed": false,
    "slideshow": {
     "slide_type": "slide"
    }
   },
   "outputs": [
    {
     "data": {
      "image/png": "[encoded data removed]",
      "text/plain": [
       "plot without title"
      ]
     },
     "metadata": {},
     "output_type": "display_data"
    }
   ],
   "source": [
    "curve(exp(-2 + -0.8 * x), from = -4 , to = 5, lwd = 4, lty = 2)\n",
    "curve(exp(-1 + 0.4 * x), add = TRUE, lwd = 4)\n",
    "abline(v = 0:0)\n",
    "text(-2,3,expression(paste(group(\"{\",list(beta[1],beta[2]) ,\"}\") == group(\"{\",list(-2, 0.8),\"}\"))))\n",
    "text(2,2,expression(group(\"{\",list(beta[1],beta[2]) ,\"}\") == group(\"{\",list(-1, 0.4),\"}\")))"
   ]
  },
  {
   "cell_type": "markdown",
   "metadata": {
    "slideshow": {
     "slide_type": "slide"
    }
   },
   "source": [
    "上の式を変形して, \n",
    "\n",
    "　　$log\\lambda_i = \\beta_1 + \\beta_2x_i$\n",
    "\n",
    "この時, \n",
    "  * **線形予測子**(linear predictor)$\\cdots$右辺の$\\beta_1 + \\beta_2x_i$\n",
    "    * この式が$\\{\\beta_1, \\beta_2, \\beta_3\\}$の線形結合になっているから\n",
    "  * **リンク関数(link function)**$\\cdots$($\\lambda_i$の関数) = (線形予測子)の時, 左辺の「関数」\n",
    "    * 今回は対数関数を指定しているので, **対数リンク関数**(log link function)と呼ばれる\n",
    "      * ポアソン回帰を使用する場合, 大抵使用される\n",
    "      * 数学的に都合の良い性質があるので**正準リンク関数**(canonical link function)と呼ばれる\n",
    "        * 「推定計算に都合良い」$\\cdots$$\\lambda_i = exp(線形予測子) \\geq 0$\n",
    "        * 分かりやすい$\\cdots$要因の効果が積で表されるから→後述\n",
    "        * Rのglm()は何も指定しなければ正準リンク関数が使用される\n"
   ]
  },
  {
   "cell_type": "markdown",
   "metadata": {
    "slideshow": {
     "slide_type": "slide"
    }
   },
   "source": [
    "-----\n",
    "\n",
    "### あてはめとあてはまりの良さ\n",
    "\n",
    "* ポアソン回帰…観測データに対するポアソン分布を使った**あてはめ**(fitting)\n",
    "  * 対数尤度$log L$が最大になるパラメータ$\\hat{\\beta}_1, \\hat{\\beta}_2$の推定値を決めること\n",
    "\n",
    "データ$\\bf Y$のもとでの対数尤度  \n",
    "$$log L(\\beta_1, \\beta_2) = \\sum_{i}log \\frac{\\lambda^{y_i}_i exp(-\\lambda_i)}{y_i!}$$\n",
    "\n",
    "複数のパラメータ$\\{\\beta_1, \\beta_2\\}$を同時に扱うので, 最尤推定量の導出は難しい.  \n",
    "→実際のポアソン回帰は大抵数値的な試行錯誤で最尤推定値を探し出す  \n",
    "　→解析的に導出出来なくても問題ない  \n",
    "→Rだと簡単にGLMのあてはめが出来る"
   ]
  },
  {
   "cell_type": "code",
   "execution_count": 13,
   "metadata": {
    "collapsed": false,
    "slideshow": {
     "slide_type": "slide"
    }
   },
   "outputs": [
    {
     "data": {
      "text/plain": [
       "\n",
       "Call:  glm(formula = y ~ x, family = poisson, data = d)\n",
       "\n",
       "Coefficients:\n",
       "(Intercept)            x  \n",
       "    1.29172      0.07566  \n",
       "\n",
       "Degrees of Freedom: 99 Total (i.e. Null);  98 Residual\n",
       "Null Deviance:\t    89.51 \n",
       "Residual Deviance: 84.99 \tAIC: 474.8"
      ]
     },
     "metadata": {},
     "output_type": "display_data"
    }
   ],
   "source": [
    "fit <- glm(y ~ x, data = d, family = poisson)\n",
    "fit"
   ]
  },
  {
   "cell_type": "markdown",
   "metadata": {},
   "source": [
    "* 関数内での値の指定を**引数**(argument)と言う\n",
    "  * dが引数でdataは仮引数\n",
    "    * y ~ xもfomula = y ~ xの省略"
   ]
  },
  {
   "cell_type": "code",
   "execution_count": 14,
   "metadata": {
    "collapsed": false,
    "slideshow": {
     "slide_type": "slide"
    }
   },
   "outputs": [
    {
     "data": {
      "text/plain": [
       "\n",
       "Call:\n",
       "glm(formula = y ~ x, family = poisson, data = d)\n",
       "\n",
       "Deviance Residuals: \n",
       "    Min       1Q   Median       3Q      Max  \n",
       "-2.3679  -0.7348  -0.1775   0.6987   2.3760  \n",
       "\n",
       "Coefficients:\n",
       "            Estimate Std. Error z value Pr(>|z|)    \n",
       "(Intercept)  1.29172    0.36369   3.552 0.000383 ***\n",
       "x            0.07566    0.03560   2.125 0.033580 *  \n",
       "---\n",
       "Signif. codes:  0 '***' 0.001 '**' 0.01 '*' 0.05 '.' 0.1 ' ' 1\n",
       "\n",
       "(Dispersion parameter for poisson family taken to be 1)\n",
       "\n",
       "    Null deviance: 89.507  on 99  degrees of freedom\n",
       "Residual deviance: 84.993  on 98  degrees of freedom\n",
       "AIC: 474.77\n",
       "\n",
       "Number of Fisher Scoring iterations: 4\n"
      ]
     },
     "metadata": {},
     "output_type": "display_data"
    }
   ],
   "source": [
    "summary(fit)"
   ]
  },
  {
   "cell_type": "markdown",
   "metadata": {
    "slideshow": {
     "slide_type": "slide"
    }
   },
   "source": [
    "#### summary()の読み方\n",
    "\n",
    "* (Intercept)$\\cdots$切片$\\beta_1$に対応\n",
    "* x$\\cdots$傾き$\\beta_2$に対応\n",
    "* Estimate$\\cdots$推定値のこと\n",
    "* Std.Error$\\cdots$**標準誤差**(Standard Error)の推定値のこと\n",
    "  * 推定値$\\hat{\\beta}_1, \\hat{\\beta}_2$の「ばらつき」を標準偏差で表したもの\n",
    "  * SEの推定値は, 下記を仮定すれば得られる\n",
    "    * 対数尤度は最尤推定値で最大となる凸関数\n",
    "    * 推定のばらつきが正規分布である\n",
    "    * 対数尤度関数は最大値付近でそのカタチが正規分布に近い\n"
   ]
  },
  {
   "cell_type": "markdown",
   "metadata": {
    "slideshow": {
     "slide_type": "slide"
    }
   },
   "source": [
    "* z value$\\cdots$z値と呼ばれる統計量. $\\frac{最尤推定値}{SE}$\n",
    "  * **Wald統計量**(Wald statistics)とも呼ばれる\n",
    "* $Pr(> \\mid z \\mid)\\cdots$平均がz値の絶対値で標準偏差が1の正規分布におけるマイナス無限大までの値を取る確率の2倍\n",
    "  * $\\int_{-\\infty}^{0}\\frac{1}{\\sqrt{2\\pi}}exp[-\\frac{(x-\\mid z \\mid)^2}{2}] \\times 2$$\\cdots$?\n",
    "    * 正規分布が$\\int_{-\\infty}^{\\infty}\\frac{1}{\\sqrt{2\\pi\\sigma^2}}exp[-\\frac{(x-\\mu)^2}{2\\sigma^2}]$\n",
    "  * family指定でfamily = gaussianと指定した場合は正規分布ではなくてt分布を使って確率を計算する\n",
    "  * これをいわゆるP値に見立てて**統計学的な検定**(statistical test)ができると考える人がいる\n",
    "    * でもこれは推定値の**信頼区間**(confidence interval)が近似的に算出されたと考えて結果を解釈するのが良い\n",
    "      * パラメータの値の最尤推定は点推定と呼ばれるのに対し, 区間の推定は区間推定と呼ばれる\n",
    "      * $\\alpha\\%$信頼区間は区間内に「真の値がある確率が$\\alpha\\%$」と言う意味ではない"
   ]
  },
  {
   "cell_type": "markdown",
   "metadata": {
    "slideshow": {
     "slide_type": "slide"
    }
   },
   "source": [
    "##### (横道)実際にRで計算してみた"
   ]
  },
  {
   "cell_type": "code",
   "execution_count": 15,
   "metadata": {
    "collapsed": false
   },
   "outputs": [
    {
     "data": {
      "text/html": [
       "0.000191157431605605"
      ],
      "text/latex": [
       "0.000191157431605605"
      ],
      "text/markdown": [
       "0.000191157431605605"
      ],
      "text/plain": [
       "[1] 0.0001911574"
      ]
     },
     "metadata": {},
     "output_type": "display_data"
    },
    {
     "data": {
      "text/html": [
       "0.000382314863211209"
      ],
      "text/latex": [
       "0.000382314863211209"
      ],
      "text/markdown": [
       "0.000382314863211209"
      ],
      "text/plain": [
       "[1] 0.0003823149"
      ]
     },
     "metadata": {},
     "output_type": "display_data"
    },
    {
     "data": {
      "image/png": "[encoded data removed]",
      "text/plain": [
       "plot without title"
      ]
     },
     "metadata": {},
     "output_type": "display_data"
    }
   ],
   "source": [
    "f.b1 <- function(x){(1/(sqrt(2*pi)))*exp(-(x-3.552)^2/2)}\n",
    "integrate(f.b1,-Inf,0)$value\n",
    "integrate(f.b1,-Inf,0)$value * 2\n",
    "\n",
    "#グラフ\n",
    "plot(f.b1,from = -2, to = 1)\n",
    "xvals <- seq(-2,0,length = 10)\n",
    "yvals <- f.b1(xvals)\n",
    "polygon(c(xvals,rev(xvals)),c(rep(0,10),rev(yvals)),col=\"grey\")"
   ]
  },
  {
   "cell_type": "code",
   "execution_count": 16,
   "metadata": {
    "collapsed": false,
    "scrolled": false,
    "slideshow": {
     "slide_type": "slide"
    }
   },
   "outputs": [
    {
     "data": {
      "text/html": [
       "0.0167933064860333"
      ],
      "text/latex": [
       "0.0167933064860333"
      ],
      "text/markdown": [
       "0.0167933064860333"
      ],
      "text/plain": [
       "[1] 0.01679331"
      ]
     },
     "metadata": {},
     "output_type": "display_data"
    },
    {
     "data": {
      "text/html": [
       "0.0335866129720666"
      ],
      "text/latex": [
       "0.0335866129720666"
      ],
      "text/markdown": [
       "0.0335866129720666"
      ],
      "text/plain": [
       "[1] 0.03358661"
      ]
     },
     "metadata": {},
     "output_type": "display_data"
    },
    {
     "data": {
      "image/png": "[encoded data removed]",
      "text/plain": [
       "plot without title"
      ]
     },
     "metadata": {},
     "output_type": "display_data"
    }
   ],
   "source": [
    "f.b2 <- function(x){(1/(sqrt(2*pi)))*exp(-(x-2.125)^2/2)}\n",
    "integrate(f.b2,-Inf,0)$value\n",
    "integrate(f.b2,-Inf,0)$value * 2\n",
    "\n",
    "# グラフ\n",
    "plot(f.b2, from = -2, to = 1)\n",
    "xvals <- seq(-2,0,length = 10)\n",
    "yvals <- f.b2(xvals)\n",
    "polygon(c(xvals,rev(xvals)),c(rep(0,10),rev(yvals)),col=\"grey\")"
   ]
  },
  {
   "cell_type": "markdown",
   "metadata": {
    "slideshow": {
     "slide_type": "slide"
    }
   },
   "source": [
    "* **最大対数尤度**(maximum log likelihood)$\\cdots$**あてはまりの良さ**(goodness of fit)\n",
    "  * 対数尤度$log L(\\beta_1, \\beta_2)$が最大になっているところ\n",
    "    * パラメータの値が最尤推定値$\\{\\hat{\\beta}_1, \\hat{\\beta}_2\\}$となっているところ"
   ]
  },
  {
   "cell_type": "code",
   "execution_count": 17,
   "metadata": {
    "collapsed": false
   },
   "outputs": [
    {
     "data": {
      "text/plain": [
       "'log Lik.' -235.3863 (df=2)"
      ]
     },
     "metadata": {},
     "output_type": "display_data"
    }
   ],
   "source": [
    "logLik(fit)"
   ]
  },
  {
   "cell_type": "markdown",
   "metadata": {},
   "source": [
    "* **自由度**(degrees of freedom)$\\cdots$上のdfの値\n",
    "  * 最尤推定したパラメータ数が2個($\\beta_1, \\beta_2$)であるということ"
   ]
  },
  {
   "cell_type": "markdown",
   "metadata": {
    "slideshow": {
     "slide_type": "slide"
    }
   },
   "source": [
    "-----\n",
    "\n",
    "### ポアソン回帰モデルによる予測\n",
    "\n",
    "* **予測**(prediction)\n",
    "* 平均種子数$\\lambda$の関数に推定値$\\{\\hat{\\beta}_1, \\hat{\\beta}_2\\}$を代入した関数\n",
    "\n",
    "　　$\\lambda = exp(1.29 + 0.0757x)$\n",
    "  \n",
    "    を使う"
   ]
  },
  {
   "cell_type": "code",
   "execution_count": 25,
   "metadata": {
    "collapsed": false
   },
   "outputs": [
    {
     "data": {
      "image/png": "[encoded data removed]",
      "text/plain": [
       "plot without title"
      ]
     },
     "metadata": {},
     "output_type": "display_data"
    }
   ],
   "source": [
    "plot(d$x, d$y, pch = c(21, 19)[d$f])\n",
    "xx <- seq(min(d$x), max(d$x), length = 100)\n",
    "#lines(xx, exp(1.29 + 0.0757 * xx), lwd = 2)\n",
    "\n",
    "# 同じ事をpredict()関数を使ってもできる\n",
    "yy <- predict(fit, newdata = data.frame(x = xx), type = \"response\") \n",
    "lines(xx, yy, lwd = 2, lty=2)"
   ]
  },
  {
   "cell_type": "markdown",
   "metadata": {
    "slideshow": {
     "slide_type": "slide"
    }
   },
   "source": [
    "-----\n",
    "\n",
    "## 説明因子が因子型の統計モデル\n",
    "\n",
    "ここで, 無視していた施肥効果$f_i$を説明変数として組み込んだモデルを検討する. \n",
    "\n",
    "* 特に指定しない場合, 因子型(カテゴリ型)の説明変数を含む線形予測子は**ダミー変数**(dummy variable)に置き換えられている\n",
    "  * glm()関数を使えば施肥処理の列$f$を説明変数として指定するだけ\n",
    "\n",
    "植物の体サイズ$x_i$の効果を無視して施肥効果$f_i$だけが影響するモデルの平均値を  \n",
    "　　$\\lambda_i = exp(\\beta_1 + \\beta_3d_i)$  \n",
    "として, 説明変数を$f_i$ではなく$d_i$として, 以下の値を取る.  \n",
    "\\begin{eqnarray}\n",
    "d_i=\\left\\{ \\begin{array}{ll}\n",
    "0 & (f_i = Cの場合) \\\\\n",
    "1 & (f_i = Tの場合) \\\\\n",
    "\\end{array} \\right.\n",
    "\\end{eqnarray}\n",
    "* 個体$i$が肥料無し($f_i = C$)$\\cdots$$\\lambda_i = exp(\\beta_1)$\n",
    "* 個体$i$が肥料あり($f_i = T$)$\\cdots$$\\lambda_i = exp(\\beta_1 + \\beta_3)$\n",
    "\n",
    "-----"
   ]
  },
  {
   "cell_type": "markdown",
   "metadata": {
    "slideshow": {
     "slide_type": "slide"
    }
   },
   "source": [
    "\n",
    "### 実際にglmに入れてみる"
   ]
  },
  {
   "cell_type": "code",
   "execution_count": 19,
   "metadata": {
    "collapsed": false
   },
   "outputs": [
    {
     "data": {
      "text/plain": [
       "\n",
       "Call:  glm(formula = y ~ f, family = poisson, data = d)\n",
       "\n",
       "Coefficients:\n",
       "(Intercept)           fT  \n",
       "    2.05156      0.01277  \n",
       "\n",
       "Degrees of Freedom: 99 Total (i.e. Null);  98 Residual\n",
       "Null Deviance:\t    89.51 \n",
       "Residual Deviance: 89.48 \tAIC: 479.3"
      ]
     },
     "metadata": {},
     "output_type": "display_data"
    }
   ],
   "source": [
    "fit.f <- glm(y ~ f, data = d, family = poisson)\n",
    "fit.f"
   ]
  },
  {
   "cell_type": "markdown",
   "metadata": {},
   "source": [
    "#### 出力結果を読む\n",
    "\n",
    "* Coefficients$\\cdots$パラメータの推定値\n",
    "* 施肥効果$f_i$の係数はfTとなっている$\\cdots$説明変数$f_i$がT水準で取る値\n",
    "  * 説明変数$f_i$にはC(肥料なし)とT(肥料あり)の2水準\n",
    "* 個体$i$の$f_i$がCなら\n",
    "  * $\\lambda_i = exp(2.05 + 0) = exp(2.05) = 7.77$\n",
    "* Tなら\n",
    "  * $\\lambda_i = exp(2.05 + 0.0128) = exp(2.0628) = 7.87$\n"
   ]
  },
  {
   "cell_type": "markdown",
   "metadata": {
    "slideshow": {
     "slide_type": "slide"
    }
   },
   "source": [
    "#### 最大対数尤度"
   ]
  },
  {
   "cell_type": "code",
   "execution_count": 34,
   "metadata": {
    "collapsed": false
   },
   "outputs": [
    {
     "data": {
      "text/plain": [
       "'log Lik.' -237.6273 (df=2)"
      ]
     },
     "metadata": {},
     "output_type": "display_data"
    }
   ],
   "source": [
    "logLik(fit.f)"
   ]
  },
  {
   "cell_type": "markdown",
   "metadata": {},
   "source": [
    "説明変数が$x_i$だけのときよりもあてはまりが悪い. \n",
    "\n",
    "-----"
   ]
  },
  {
   "cell_type": "markdown",
   "metadata": {
    "slideshow": {
     "slide_type": "slide"
    }
   },
   "source": [
    "### 因子型説明変数の因子数が3以上になる場合\n",
    "\n",
    "* 2水準の場合を単純に拡張したもの\n",
    "* この時の平均種子数\n",
    "  * $\\lambda_i = exp(\\beta_1 + \\beta_3d_{i, A} + \\beta_4d_{i, B})$\n",
    "* ダミー変数\n",
    "\\begin{eqnarray}\n",
    "d_{i, A}=\\left\\{ \\begin{array}{ll}\n",
    "0 & (f_iがTAでない場合) \\\\\n",
    "1 & (f_iがTAの場合) \\\\\n",
    "\\end{array} \\right.\n",
    "\\end{eqnarray}\n",
    "\\begin{eqnarray}\n",
    "d_{i, B}=\\left\\{ \\begin{array}{ll}\n",
    "0 & (f_iがTBでない場合) \\\\\n",
    "1 & (f_iがTBの場合) \\\\\n",
    "\\end{array} \\right.\n",
    "\\end{eqnarray}\n",
    "* glm()を指定すると, その結果にはfTではなくfTAとfTBが格納されている\n",
    "  * それぞれ$\\beta_3, \\beta_4$に対応"
   ]
  },
  {
   "cell_type": "markdown",
   "metadata": {
    "slideshow": {
     "slide_type": "slide"
    }
   },
   "source": [
    "-----\n",
    "\n",
    "## 説明因子が数量型+因子型の統計モデル\n",
    "\n",
    "**重回帰**(multiple regression)$\\cdots$複数の説明変数を持つ統計モデルによるあてはめ\n",
    "\n",
    "* 平均種子数$\\lambda_i$の式\n",
    "  * $log\\lambda_i = \\beta_1 + \\beta_2x_i + \\beta_3d_i$\n",
    "* Rではモデル式をx + fとするだけで適切に処理してくれる"
   ]
  },
  {
   "cell_type": "code",
   "execution_count": 21,
   "metadata": {
    "collapsed": false
   },
   "outputs": [
    {
     "data": {
      "text/plain": [
       "\n",
       "Call:  glm(formula = y ~ x + f, family = poisson, data = d)\n",
       "\n",
       "Coefficients:\n",
       "(Intercept)            x           fT  \n",
       "    1.26311      0.08007     -0.03200  \n",
       "\n",
       "Degrees of Freedom: 99 Total (i.e. Null);  97 Residual\n",
       "Null Deviance:\t    89.51 \n",
       "Residual Deviance: 84.81 \tAIC: 476.6"
      ]
     },
     "metadata": {},
     "output_type": "display_data"
    }
   ],
   "source": [
    "fit.all <- glm(y ~ x + f, data = d, family = poisson)\n",
    "fit.all"
   ]
  },
  {
   "cell_type": "markdown",
   "metadata": {},
   "source": [
    "#### 出力結果を読む\n",
    "\n",
    "* 因子型だけだと肥料の効果fTがプラスだったのに, 今回はマイナスになってしまった\n",
    "  * 肥料は効果があるのかどうか分からない"
   ]
  },
  {
   "cell_type": "markdown",
   "metadata": {
    "slideshow": {
     "slide_type": "slide"
    }
   },
   "source": [
    "#### 最大対数尤度"
   ]
  },
  {
   "cell_type": "code",
   "execution_count": 22,
   "metadata": {
    "collapsed": false
   },
   "outputs": [
    {
     "data": {
      "text/plain": [
       "'log Lik.' -235.2937 (df=3)"
      ]
     },
     "metadata": {},
     "output_type": "display_data"
    }
   ],
   "source": [
    "logLik(fit.all)"
   ]
  },
  {
   "cell_type": "markdown",
   "metadata": {},
   "source": [
    "説明変数が$x_i$だけの時よりはあてはまりが良い.\n",
    "→比較は第4章で検討"
   ]
  },
  {
   "cell_type": "markdown",
   "metadata": {
    "slideshow": {
     "slide_type": "slide"
    }
   },
   "source": [
    "\n",
    "-----\n",
    "\n",
    "### 対数リンク関数の分かりやすさ\n",
    "\n",
    "* モデル式がglm(y ~ x + f, $\\dots$)なので足し算に見える\n",
    "   * 対数リンク関数を使っているので, かけ算で要因が平均に影響する\n",
    "* 推定結果を予測としてまとめると\n",
    "  * 施肥処理$f_i$がC\n",
    "    * $\\lambda_i = exp(1.26 + 0.08x_i)\n",
    "  * 施肥処理$f_i$がT\n",
    "    * $\\lambda_i = exp(1.26 + 0.08x_i - 0.032)\n",
    "    * 以下に分解出来る\n",
    "    * $\\lambda_i = exp(1.26) \\times exp(0.08x_i) \\times exp(-0.032)$\n",
    "      * $\\lambda_i = (定数) \\times (サイズの効果) \\times (施肥処理の効果)$\n",
    "      * 説明変数$x_i$が1増加すると$\\lambda_i$は$exp(0.08 \\times 1) = 1.08$倍に増える\n",
    "        * 足し算ではなくてかけ算が平均に影響している\n",
    "      * 施肥処理も同様\n",
    "        * $exp(-0.032) = 0.969$\n",
    "        * 肥料をやると種子数の平均が0.969倍になる\n",
    "        "
   ]
  },
  {
   "cell_type": "markdown",
   "metadata": {
    "collapsed": true,
    "slideshow": {
     "slide_type": "slide"
    }
   },
   "source": [
    "\n",
    "#### 対数リンク関数を使わなかったら\n",
    "\n",
    "* **恒等リンク関数**(identity link funciton)$\\cdots$リンク関数が特に何もない場合(平均が線形予測子に等しい)\n",
    "  * 平均種子数$\\lambda_i$の予測\n",
    "    * $\\lambda_i = 1.27 + 0.661x_i - 0.205d_i$\n",
    "      * 施肥処理するととにかく0.205個分減る\n"
   ]
  },
  {
   "cell_type": "markdown",
   "metadata": {},
   "source": [
    "#### 「妥当なモデル」\n",
    "\n",
    "* どのリンク関数が妥当かはあてはまりのよしあしだけでは決まらない\n",
    "  * 対数リンク関数の方が「まし」な気がする\n",
    "  * 重要なのは数式が現象をどのように表現しているのかを注意しながら統計モデルを設計すること"
   ]
  },
  {
   "cell_type": "markdown",
   "metadata": {
    "slideshow": {
     "slide_type": "slide"
    }
   },
   "source": [
    "\n",
    "-----\n",
    "\n",
    "### 「何でも正規分布」「何でも直線」には無理がある\n",
    "\n",
    "* GLMで確率分布は等分散の正規分布かつ「リンク関数なし」(恒等リンク関数)に指定\n",
    "  * 一番化(generalized)ではない**線形モデル**(Linear Model)\n",
    "    * あるいは**一般**線形モデル(general linear model)\n",
    "* ここでは**直線回帰**(linear regression)とポアソン回帰を比較する\n",
    "  * データ点が与えられたとき, 「とにかく散布図に直線をひけばいい」のか\n",
    "    * 「世の中は何でも正規分布だから」…?"
   ]
  },
  {
   "cell_type": "markdown",
   "metadata": {
    "slideshow": {
     "slide_type": "slide"
    }
   },
   "source": [
    "* 直線回帰はGLMの一部\n",
    "  * 観測値$\\{x_1, x_2, \\cdots, x_n\\}$と$\\{y_1, y_2, \\cdots, y_n\\}$のペアがある\n",
    "  * $X = \\{x_i\\}$を説明変数, $Y = \\{y_i\\}$を応答変数とよぶ\n",
    "  * $Y$は平均$\\mu_i$で標準偏差$\\sigma$の正規分布に従う\n",
    "  * あるデータ点$i$における平均値$\\mu_i = \\beta_1 + \\beta_2x_i$となる"
   ]
  },
  {
   "cell_type": "markdown",
   "metadata": {
    "slideshow": {
     "slide_type": "slide"
    }
   },
   "source": [
    "#### 「どんなデータでも直線回帰」という作法の限界\n",
    "\n",
    "* 応答変数$y$が数えられるカウントデータ(図3.9)\n",
    "  * これに対して「何でも正規分布」「$x$と$y$はいつも直線関係」とするのは無理がある\n",
    "    * 正規分布は連続的な値を扱う確率分布\n",
    "    * カウントデータなのに平均値の予測がマイナスになる…?\n",
    "    * 「ばらつき一定」ではなさそうなのに分散一定を仮定している…?\n",
    "* 図のデータを表現する手段としては直線回帰の統計は「現実ばなれしている」\n",
    "  * パラメータの推定値を得られるがそもそも「現実ばなれ」した統計モデルを使用している\n",
    "    * 解析そのものに意味がない\n",
    "* ポアソン分布は比較的妥当\n",
    "  * カウントデータに正しく対応\n",
    "  * 対数リンク関数を使えば平均値は常に非負\n",
    "  * $y$のばらつきは平均とともに増大する"
   ]
  },
  {
   "cell_type": "markdown",
   "metadata": {
    "slideshow": {
     "slide_type": "slide"
    }
   },
   "source": [
    "\n",
    "#### 強引な変数変換わざを避ける\n",
    "\n",
    "* **変数変換**して直線回帰することとポアソン回帰は全く違う\n",
    "  * 推定結果は一致しない\n",
    "    * $y$がゼロに近いときの対数変換はばらつきの「見た目」を少し変えるもの\n",
    "    * 無理矢理正規分布モデルを当てはめる利点がない"
   ]
  }
 ],
 "metadata": {
  "celltoolbar": "Slideshow",
  "kernelspec": {
   "display_name": "R",
   "language": "R",
   "name": "ir"
  },
  "language_info": {
   "codemirror_mode": "r",
   "file_extension": ".r",
   "mimetype": "text/x-r-source",
   "name": "R",
   "pygments_lexer": "r",
   "version": "3.3.1"
  }
 },
 "nbformat": 4,
 "nbformat_minor": 0
}
